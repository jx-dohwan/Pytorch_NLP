{
 "cells": [
  {
   "attachments": {},
   "cell_type": "markdown",
   "metadata": {},
   "source": [
    "# 전처리\n",
    "- 전처리 과정에서 필요한 용어와 개요를 살펴보자"
   ]
  },
  {
   "attachments": {},
   "cell_type": "markdown",
   "metadata": {},
   "source": [
    "## 코퍼스란?\n",
    "- 말뭉치라고도 불리는 코퍼스는 보통 여러 단어들로 이루어진 문장이다.\n",
    "- 자연어 처리 분야의 머신러닝을 수행하려면 훈련 데이터가 필요한데 보통 이런 다수의 문장으로 구성된 코퍼스가 필요하다\n",
    "- 한 가지 언어로 구성된 코퍼스는 단일 언어 코퍼스라고 부르며, 두개의 언어로는 이중 언어 코퍼스라고 부른다., 더 많은 수는 다중 언어 코퍼스가 된다.\n",
    "- 코퍼스가 많고 오류가 없을수록 자연어 처리 머신러닝의 모델은 더 정교해지고 정확도가 높아진다.\n",
    "- 이번 장에서는 코퍼스를 수집하고 정제하여 효율성을 높이는 전처리 방법을 다루어 보도록 하겠다."
   ]
  },
  {
   "attachments": {},
   "cell_type": "markdown",
   "metadata": {},
   "source": [
    "## 전처리 과정 개요\n",
    "- 코퍼스 수집\n",
    "- 정제\n",
    "- 문장 단위 분절\n",
    "- 분절\n",
    "- 병렬 코퍼스 정렬(생략가능)\n",
    "- 서브워드 분절"
   ]
  },
  {
   "cell_type": "code",
   "execution_count": null,
   "metadata": {},
   "outputs": [],
   "source": []
  }
 ],
 "metadata": {
  "language_info": {
   "name": "python"
  },
  "orig_nbformat": 4
 },
 "nbformat": 4,
 "nbformat_minor": 2
}
