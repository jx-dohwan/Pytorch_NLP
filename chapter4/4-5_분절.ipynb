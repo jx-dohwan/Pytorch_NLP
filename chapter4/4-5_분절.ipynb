{
 "cells": [
  {
   "attachments": {},
   "cell_type": "markdown",
   "metadata": {},
   "source": [
    "# 분절\n",
    "- 풀고자 하는 문제에 따라 형태소 분석 또는 단순한 분절을 통해 정규화를 수행한다.\n",
    "- 주로 띄어쓰기에 관해 살펴보겠다.\n",
    "- 띄어쓰기가 제각각인 경우가 많기 때문에 정규화를 해주는 의미로 다시 한 번 표준화된 띄어쓰기를 적용하는 과정이 필요하다.\n",
    "- 또한 교착어로써 접속사를 어근에서 분리해주는 역할도 하므로 희소성 문제를 해소하기도 한다.\n",
    "- NLTK를 사용하여 이러한 전처리를 수행한다.\n",
    "- ![](../img/program_by_language.png)"
   ]
  },
  {
   "attachments": {},
   "cell_type": "markdown",
   "metadata": {},
   "source": [
    "- 각 프로그램의 성능의 차이를 만드는 것은 바로 신조어나 보지 못한 고유명사를 처리하는 능력이다.\n",
    "- 그래서 프로그램을 선택하고자 할때 이런 부분에 초점을 맞추어 성능을 평가하고 선택해야한다.\n",
    "- 자신이 풀고자 하는 문제의 특징을 잘 파악하여 그에 알맞은 정책을 가진 프로그램을 선택하는 것이 중요하다"
   ]
  },
  {
   "attachments": {},
   "cell_type": "markdown",
   "metadata": {},
   "source": [
    "## 한국어 분절"
   ]
  },
  {
   "attachments": {},
   "cell_type": "markdown",
   "metadata": {},
   "source": [
    "### Mecab"
   ]
  },
  {
   "cell_type": "code",
   "execution_count": null,
   "metadata": {},
   "outputs": [],
   "source": []
  },
  {
   "attachments": {},
   "cell_type": "markdown",
   "metadata": {},
   "source": [
    "## 영어분절\n",
    "### Moses\n",
    "- 영어의 경우 앞에서 언급했듯 기본적인 띄어쓰기가 잘 통일되어 있는 편이므로 \n",
    "- 띄어쓰기 자체에 대한 큰 정규화 이슈는 없다.\n",
    "- 다만 쉼표, 마침표, 인용부호등을 띄어주어야 한다.\n",
    "- Moses에서 제공하는 분절 기능을 통해 이런 처리를 수행한다.\n"
   ]
  },
  {
   "cell_type": "code",
   "execution_count": 1,
   "metadata": {},
   "outputs": [],
   "source": [
    "import sys\n",
    "from nltk.tokenize.moses import MosesTokenizer"
   ]
  },
  {
   "cell_type": "code",
   "execution_count": 2,
   "metadata": {},
   "outputs": [],
   "source": [
    "sent = \"Natural language processing is one of biggest stream in artificial intelligence, and it becomes very popular after seq2seq's invention.\""
   ]
  },
  {
   "cell_type": "code",
   "execution_count": 3,
   "metadata": {},
   "outputs": [
    {
     "name": "stdout",
     "output_type": "stream",
     "text": [
      "Natural language processing is one of biggest stream in artificial intelligence , and it becomes very popular after seq2seq 's invention .\n"
     ]
    }
   ],
   "source": [
    "t = MosesTokenizer()\n",
    "\n",
    "if sent.strip() != '':\n",
    "    tokens = t.tokenize(sent.strip(), escape=False)\n",
    "\n",
    "    sys.stdout.write(' '.join(tokens) + '\\n')\n",
    "else:\n",
    "    sys.stdout.write('\\n')"
   ]
  },
  {
   "attachments": {},
   "cell_type": "markdown",
   "metadata": {},
   "source": [
    "## 중국어 분절\n",
    "- 스탠포드 파서\n",
    "- JIEBA"
   ]
  },
  {
   "cell_type": "code",
   "execution_count": null,
   "metadata": {},
   "outputs": [],
   "source": []
  }
 ],
 "metadata": {
  "kernelspec": {
   "display_name": "base",
   "language": "python",
   "name": "python3"
  },
  "language_info": {
   "codemirror_mode": {
    "name": "ipython",
    "version": 3
   },
   "file_extension": ".py",
   "mimetype": "text/x-python",
   "name": "python",
   "nbconvert_exporter": "python",
   "pygments_lexer": "ipython3",
   "version": "3.9.7"
  },
  "orig_nbformat": 4,
  "vscode": {
   "interpreter": {
    "hash": "67a89c197df658fa9381c6ce748d39d138b8172be5d6bcdac46c5a692d7ae1fb"
   }
  }
 },
 "nbformat": 4,
 "nbformat_minor": 2
}
