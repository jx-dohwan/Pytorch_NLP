{
 "cells": [
  {
   "attachments": {},
   "cell_type": "markdown",
   "metadata": {},
   "source": [
    "# 토치 텍스트\n",
    "- 자연어 처리 문제 또는 텍스트에 관한 머신러닝이나 딥러닝을 수행하는 데이터를 읽고 전처리하는 코드를 모아둔 라이브러리이다."
   ]
  },
  {
   "attachments": {},
   "cell_type": "markdown",
   "metadata": {},
   "source": [
    "## 세가지 형태로 분류되는 학습 데이터\n",
    "|x 데이터|y 데이터 |활용분야|\n",
    "|--------|--------|--------|\n",
    "|코퍼스  | 클래스  |텍스트분류, 감성분석|\n",
    "|코퍼스  | -      | 언어모델|\n",
    "|코퍼스  | 코퍼스  | 기계번역, 요약, 질의응답|"
   ]
  },
  {
   "attachments": {},
   "cell_type": "markdown",
   "metadata": {},
   "source": [
    "- 보통 Field라는 클래스를 통해 우리가 읽고자 하는 텍스트 파일 내의 필드를 먼저 정의한다.\n",
    "- 텍스트 파일 내에서 탭을 사용하여 필드(또는 열)를 구분하는 방식이 자연어 처리분야의 입력에서 가장 많이 사용된다.\n",
    "- 쉼표의 경우에는 텍스트 내부에 많이 포함될 수 있으므로, 쉼표 구분자를 사용하는 것은 위험한 선택이 될 수 있다.\n",
    "- 이렇게 정의된 각 필드를 Dataset 클래스를 통해 읽어들인다.\n",
    "- 읽어들인 코퍼스를 미리 주어진 미니배치 크기에 따라서 나뉠 수 있도록 이터레이터에 들어간다.\n",
    "- 미니배치를 구성하는 과정에서 미니배치 내에 문장의 길이가 다를 경우에는 필요에 따라 문장의 앞 또는 뒤에 패딩을 삽입한다.\n",
    "- 이 패딩은 추후 소개할 BOS, EOS와 함께 하나의 단어 또는 토큰과 같은 취급을 받는다.\n",
    "- 이후에 훈련 코퍼스에 대해 어휘 사전을 만들어 각 단어를 숫자로 맵핑하는 작업을 수행하게 된다."
   ]
  },
  {
   "attachments": {},
   "cell_type": "markdown",
   "metadata": {},
   "source": [
    "### 코퍼스와 레이블 읽기\n",
    "- 첫번째 예제는 한 줄에서 클래스와 텍스트가 탭('\\t')으로 구분된 데이터의 입력을 받는 내용이다."
   ]
  }
 ],
 "metadata": {
  "kernelspec": {
   "display_name": "base",
   "language": "python",
   "name": "python3"
  },
  "language_info": {
   "codemirror_mode": {
    "name": "ipython",
    "version": 3
   },
   "file_extension": ".py",
   "mimetype": "text/x-python",
   "name": "python",
   "nbconvert_exporter": "python",
   "pygments_lexer": "ipython3",
   "version": "3.9.7"
  },
  "orig_nbformat": 4,
  "vscode": {
   "interpreter": {
    "hash": "67a89c197df658fa9381c6ce748d39d138b8172be5d6bcdac46c5a692d7ae1fb"
   }
  }
 },
 "nbformat": 4,
 "nbformat_minor": 2
}
