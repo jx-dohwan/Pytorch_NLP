{
 "cells": [
  {
   "attachments": {},
   "cell_type": "markdown",
   "metadata": {},
   "source": [
    "# 정제\n",
    "- 텍스트를 사용하기에 앞서 필수적인 과정으로 원하는 업무와 문제에 따라, 또는 응용 분야에 따라 필요한 정제의 수준이나 깊이가 다를 수 있다.\n",
    "- 음성인식의 경우는 괄호 똔느 별표와 같은 기호나 특수 문자를 포함하면 안된다.\n",
    "- 개인정보나 민감한 정보들은 제거하거나 변조해서 모델링해야하 수 있다."
   ]
  },
  {
   "attachments": {},
   "cell_type": "markdown",
   "metadata": {},
   "source": [
    "## 전각 문자 제거\n",
    "- 다음 문자들을 각 문자에 해당하는 반각 문자로 바꾸어 주는 작업이 필요하다.\n",
    "- ![](../img/full_character.png)\n"
   ]
  },
  {
   "attachments": {},
   "cell_type": "markdown",
   "metadata": {},
   "source": [
    "## 대소문자 통일\n",
    "- 하나의 의미를 지니는 여러 단어를 하나의 형태로 통일해 희소성을 줄이는 효과를기대할수 있다.\n",
    "- 하지만 딥러닝 시대에 접어들어 단어 임베딩을 통한 효율적인 표현이 가능해지면서 다양한 단어들을 비슷한 값의 벡터로 나타낼 수 잇게 되자\n",
    "- 대소문자 통일 같은(전체 코퍼스에서 차지하는 비율이 낮은)문제를 해결할 필요성이 줄어들었다."
   ]
  },
  {
   "attachments": {},
   "cell_type": "markdown",
   "metadata": {},
   "source": [
    "## 정규 표현식을 사용한 정제\n",
    "- 특수문자, 기호등에 의해 노이즈가 섞일 때가 많다. 이러한 노이즈들을 효율적으로 감지하고 없애려면 인덱스의 사용은 필수이다.\n",
    "### []\n",
    "- []안에 들어있는 문자를 각각 or로 엮어주는 역할을 한다.\n",
    "### -\n",
    "- 연속된 숫자 또는 알파벳등을 표현할 수 있다.\n",
    "### [^]\n",
    "- Not을 의미한다.\n",
    "### ()\n",
    "- 그룹을 만들 수 있다.\n",
    "### |\n",
    "- or을 의미한다.\n",
    "### ?\n",
    "- 앞의 수식하는 부분이 나타나지 않거나 한번만 나타날 때 사용한다.\n",
    "### +\n",
    "- 앞의 수식하는 부분이 한 번 이상 나타날 경우 사용한다.\n",
    "### *\n",
    "- 앞의 수식하는 부분이 나타나지 않거나 여러번 나타날 경우 사용한다.\n",
    "### {n}\n",
    "- 정확하게 반복 횟수의 범위를 알고 있다면 이것을 사용하는 것이 더 좋다\n",
    "### {n,}\n",
    "- n번 이상 반복됨을 표현하는 식이다.\n",
    "### {n,m}\n",
    "- n번에서 m번사이를 반복\n",
    "### .\n",
    "- 어떤 글자도 .에 포함될 수 있다.\n",
    "### ^와$\n",
    "- ^은 라인의 시작을 의미 $은 라인의 종료를 의미\n",
    "### 지정문자 사용\n",
    "- \\s : 공백 문자\n",
    "- \\S : 공백 문자를 제외한 모든 문자\n",
    "- \\w : alphanumeric(알파벳 + 숫자) + '_'([A-Za-z0-9_]와 같음)\n",
    "- \\W : non-alphanumeric 문자 및 '_' 제외([^A-Za-z0-9_와 같음]) \n",
    "- \\d : 숫자 ([0-9]와 같음)\n",
    "- \\D : 숫자를 제외한 모든 문자([^0-9]와 같음)\n"
   ]
  },
  {
   "attachments": {},
   "cell_type": "markdown",
   "metadata": {},
   "source": [
    "## 예제"
   ]
  },
  {
   "cell_type": "code",
   "execution_count": 1,
   "metadata": {},
   "outputs": [
    {
     "data": {
      "text/plain": [
       "'REMOVED'"
      ]
     },
     "execution_count": 1,
     "metadata": {},
     "output_type": "execute_result"
    }
   ],
   "source": [
    "import re\n",
    "regex = r\"([\\w]+\\s*:?\\s*)?\\(?\\+?([0-9]{1,3})?\\-?[0-9]{2,3}(\\)|\\-)?[0-9]{3,4}\\-?[0-9]{4}\"\n",
    "x = \"Ki: +82-10-1234-5678\"\n",
    "re.sub(regex, \"REMOVED\", x)\n"
   ]
  },
  {
   "cell_type": "code",
   "execution_count": 2,
   "metadata": {},
   "outputs": [
    {
     "data": {
      "text/plain": [
       "'CONTENT REMOVED'"
      ]
     },
     "execution_count": 2,
     "metadata": {},
     "output_type": "execute_result"
    }
   ],
   "source": [
    "x = \"CONTENT jiu 02)1234-5678\"\n",
    "re.sub(regex, \"REMOVED\",x)"
   ]
  },
  {
   "attachments": {},
   "cell_type": "markdown",
   "metadata": {},
   "source": [
    "## 치환자 사용"
   ]
  },
  {
   "cell_type": "code",
   "execution_count": 3,
   "metadata": {},
   "outputs": [],
   "source": [
    "x = '''abcedfg\n",
    "12345\n",
    "ab12\n",
    "a1bc2d\n",
    "12ab\n",
    "a1b\n",
    "1a2\n",
    "a1\n",
    "1a\n",
    "hijklmnop\n",
    "'''\n",
    "\n",
    "regex = r'([a-z])[0-9]+([a-z])'\n",
    "to = r'\\1\\2'\n",
    "\n",
    "y = '\\n'.join([re.sub(regex, to, x_i) for x_i in x.split('\\n')])\n"
   ]
  },
  {
   "cell_type": "code",
   "execution_count": 4,
   "metadata": {},
   "outputs": [
    {
     "data": {
      "text/plain": [
       "'abcedfg\\n12345\\nab12\\nabcd\\n12ab\\nab\\n1a2\\na1\\n1a\\nhijklmnop\\n'"
      ]
     },
     "execution_count": 4,
     "metadata": {},
     "output_type": "execute_result"
    }
   ],
   "source": [
    "y"
   ]
  },
  {
   "cell_type": "code",
   "execution_count": null,
   "metadata": {},
   "outputs": [],
   "source": []
  }
 ],
 "metadata": {
  "kernelspec": {
   "display_name": "base",
   "language": "python",
   "name": "python3"
  },
  "language_info": {
   "codemirror_mode": {
    "name": "ipython",
    "version": 3
   },
   "file_extension": ".py",
   "mimetype": "text/x-python",
   "name": "python",
   "nbconvert_exporter": "python",
   "pygments_lexer": "ipython3",
   "version": "3.9.7"
  },
  "orig_nbformat": 4,
  "vscode": {
   "interpreter": {
    "hash": "67a89c197df658fa9381c6ce748d39d138b8172be5d6bcdac46c5a692d7ae1fb"
   }
  }
 },
 "nbformat": 4,
 "nbformat_minor": 2
}
