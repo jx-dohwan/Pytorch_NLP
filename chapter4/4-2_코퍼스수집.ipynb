{
 "cells": [
  {
   "attachments": {},
   "cell_type": "markdown",
   "metadata": {},
   "source": [
    "# 코퍼스 수집\n",
    "- 코퍼스를 구하는 방법은 공개된 데이터를 사용, 크롤링, AI허브, 경진대회 플랫폼사이트 등이 있다.\n",
    "- 무작정 웹사이트에서 코퍼스를 크롤링하면 법적인 문제로 이어질 수 있다.\n",
    "- 저작권 뿐만 아니라 불필요한 트래픽이 웹 서버에 가중되는 과정에서 문제가 생길 수 있다.\n",
    "- 해당 웹사이트의 크롤링 허용 여부는 사이트의 robots.txt를 보면 확인할 수 있다.\n",
    "- url 주소 뒤에 추가해주면 된다."
   ]
  },
  {
   "attachments": {},
   "cell_type": "markdown",
   "metadata": {},
   "source": [
    "## 단일 언어 코퍼스 수집\n",
    "- 위키피디아나 각종 위키에서 덤프 데이터를 제공하기도 한다. 따라서 해당 데이터를 다운로드 및 수집하면 솜쉽게 대량의 코퍼스를 얻을 수 있다.\n",
    "- ![](../img/single_corpus.png)"
   ]
  },
  {
   "attachments": {},
   "cell_type": "markdown",
   "metadata": {},
   "source": [
    "## 다중 언어 코퍼스 수집\n",
    "![](../img/multiple_corpus.png)"
   ]
  },
  {
   "cell_type": "code",
   "execution_count": null,
   "metadata": {},
   "outputs": [],
   "source": []
  }
 ],
 "metadata": {
  "kernelspec": {
   "display_name": "pytorch",
   "language": "python",
   "name": "python3"
  },
  "language_info": {
   "name": "python",
   "version": "3.6.13 |Anaconda, Inc.| (default, Mar 16 2021, 11:37:27) [MSC v.1916 64 bit (AMD64)]"
  },
  "orig_nbformat": 4,
  "vscode": {
   "interpreter": {
    "hash": "c76801ef4636d259bef71178ff9b6783756e10e36adbdb1b3ea353d89da04bd9"
   }
  }
 },
 "nbformat": 4,
 "nbformat_minor": 2
}
